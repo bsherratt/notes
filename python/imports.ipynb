{
 "cells": [
  {
   "cell_type": "markdown",
   "metadata": {
    "slideshow": {
     "slide_type": "slide"
    }
   },
   "source": [
    "# Python Imports"
   ]
  },
  {
   "cell_type": "markdown",
   "metadata": {
    "slideshow": {
     "slide_type": "subslide"
    }
   },
   "source": [
    "## Overview\n",
    "\n",
    "- Syntax\n",
    "- What it does\n",
    "- The Python Path\n",
    "- Relative imports"
   ]
  },
  {
   "cell_type": "markdown",
   "metadata": {
    "slideshow": {
     "slide_type": "slide"
    }
   },
   "source": [
    "## Syntax"
   ]
  },
  {
   "cell_type": "markdown",
   "metadata": {
    "slideshow": {
     "slide_type": "subslide"
    }
   },
   "source": [
    "### Simple import"
   ]
  },
  {
   "cell_type": "markdown",
   "metadata": {
    "slideshow": {
     "slide_type": "fragment"
    }
   },
   "source": [
    "The simplest import statement looks like `import module`, where `module` is a \"dotted name\":\n",
    "\n",
    "```python\n",
    "import module\n",
    "import module.submodule\n",
    "```"
   ]
  },
  {
   "cell_type": "markdown",
   "metadata": {
    "slideshow": {
     "slide_type": "fragment"
    }
   },
   "source": [
    "Multiple modules *can* be listed, but it is not considered good style\n",
    "\n",
    "```python\n",
    "import sys, os  # Ew!\n",
    "```"
   ]
  },
  {
   "cell_type": "markdown",
   "metadata": {
    "slideshow": {
     "slide_type": "fragment"
    }
   },
   "source": [
    "Modules can be renamed at import time. Generally used to shorten the name of a heavily-used module:\n",
    "\n",
    "```python\n",
    "import numpy as np\n",
    "import matplotlib.pyplot as plt\n",
    "```"
   ]
  },
  {
   "cell_type": "markdown",
   "metadata": {
    "slideshow": {
     "slide_type": "subslide"
    }
   },
   "source": [
    "### Import from"
   ]
  },
  {
   "cell_type": "markdown",
   "metadata": {
    "slideshow": {
     "slide_type": "fragment"
    }
   },
   "source": [
    "A \"from\" import generally reads:\n",
    "\n",
    "```python\n",
    "from module import something\n",
    "```"
   ]
  },
  {
   "cell_type": "markdown",
   "metadata": {
    "slideshow": {
     "slide_type": "fragment"
    }
   },
   "source": [
    "Useful if the fully-qualified name to an object feels too long or redundant,\n",
    "or for classes or functions that are simply used a lot:\n",
    "\n",
    "```python\n",
    "from datetime import datetime\n",
    "from iris.cube import Cube\n",
    "```"
   ]
  },
  {
   "cell_type": "markdown",
   "metadata": {
    "slideshow": {
     "slide_type": "fragment"
    }
   },
   "source": [
    "Like the simple import, `as` can be used to rename the imported item:\n",
    "\n",
    "```python\n",
    "from iris.util import promote_aux_coord_to_dim_coord as promote_coord\n",
    "```"
   ]
  },
  {
   "cell_type": "markdown",
   "metadata": {
    "slideshow": {
     "slide_type": "fragment"
    }
   },
   "source": [
    "Also like the simple import, multiple names can be listed, but here *is*\n",
    "considered good style - so much so that the list is allowed to be bracketed:\n",
    "\n",
    "```python\n",
    "from typing import (\n",
    "    List,\n",
    "    Mapping,\n",
    "    Optional,\n",
    "    ...\n",
    ")\n",
    "```"
   ]
  },
  {
   "cell_type": "markdown",
   "metadata": {
    "slideshow": {
     "slide_type": "slide"
    }
   },
   "source": [
    "## What it Does\n",
    "\n",
    "- Check cache\n",
    "- Import parent\n",
    "- Locate file\n",
    "- Initialise module\n",
    "- Execute file\n",
    "- Assign variables"
   ]
  },
  {
   "cell_type": "markdown",
   "metadata": {
    "slideshow": {
     "slide_type": "subslide"
    }
   },
   "source": [
    "### Check cache\n",
    "\n",
    "Python caches all imported modules in `sys.modules`"
   ]
  },
  {
   "cell_type": "code",
   "execution_count": 1,
   "metadata": {},
   "outputs": [
    {
     "data": {
      "text/plain": [
       "<module 'sys' (built-in)>"
      ]
     },
     "execution_count": 1,
     "metadata": {},
     "output_type": "execute_result"
    }
   ],
   "source": [
    "import sys\n",
    "\n",
    "sys.modules[\"sys\"]"
   ]
  },
  {
   "cell_type": "markdown",
   "metadata": {
    "slideshow": {
     "slide_type": "subslide"
    }
   },
   "source": [
    "In code:"
   ]
  },
  {
   "cell_type": "code",
   "execution_count": 2,
   "metadata": {},
   "outputs": [],
   "source": [
    "def import_module(name):\n",
    "    try:\n",
    "        return sys.modules[name]\n",
    "    except KeyError:\n",
    "        pass\n",
    "\n",
    "    return _import_module(name)"
   ]
  },
  {
   "cell_type": "markdown",
   "metadata": {
    "slideshow": {
     "slide_type": "subslide"
    }
   },
   "source": [
    "### Import parent\n",
    "\n",
    "The \"parent\" module is found by simply removing the last dotted part of the name.\n",
    "\n",
    "So there is essentially an implicit `import module` before any\n",
    "`import module.submodule`:"
   ]
  },
  {
   "cell_type": "code",
   "execution_count": 3,
   "metadata": {},
   "outputs": [
    {
     "name": "stdout",
     "output_type": "stream",
     "text": [
      "in module\n",
      "in module.submodule\n"
     ]
    }
   ],
   "source": [
    "import module.submodule"
   ]
  },
  {
   "cell_type": "markdown",
   "metadata": {
    "slideshow": {
     "slide_type": "fragment"
    }
   },
   "source": [
    "No output on reimport due to caching:"
   ]
  },
  {
   "cell_type": "code",
   "execution_count": 4,
   "metadata": {},
   "outputs": [],
   "source": [
    "import module.submodule"
   ]
  },
  {
   "cell_type": "markdown",
   "metadata": {
    "slideshow": {
     "slide_type": "subslide"
    }
   },
   "source": [
    "In code:"
   ]
  },
  {
   "cell_type": "code",
   "execution_count": 5,
   "metadata": {},
   "outputs": [],
   "source": [
    "def _import_module(name):\n",
    "    search_paths = None\n",
    "    parent, _, child = name.rpartition(\".\")\n",
    "    if parent:\n",
    "        parent_module = import_module(parent)\n",
    "        search_paths = parent_module.__path__\n",
    "\n",
    "        # Check cache again\n",
    "        try:\n",
    "            return sys.modules[name]\n",
    "        except KeyError:\n",
    "            pass\n",
    "\n",
    "    module = find_and_load(name, search_paths)\n",
    "    if parent:\n",
    "        # Ensure available as an attribute of the parent\n",
    "        setattr(parent_module, child, module)\n",
    "\n",
    "    return module"
   ]
  },
  {
   "cell_type": "markdown",
   "metadata": {
    "slideshow": {
     "slide_type": "subslide"
    }
   },
   "source": [
    "### Locate file\n",
    "\n",
    "This may be a python file, or a folder that may or may not contain a file\n",
    "called `__init__.py`\n",
    "\n",
    "**Note**: although an `__init__.py` file is not required for the import system\n",
    "itself to consider a folder a module, it remains the only available heuristic\n",
    "in other cases. For example, pytest uses their presence to deduce fully-qualified\n",
    "names for tests."
   ]
  },
  {
   "cell_type": "markdown",
   "metadata": {
    "slideshow": {
     "slide_type": "fragment"
    }
   },
   "source": [
    "#### *Well actually...*"
   ]
  },
  {
   "cell_type": "markdown",
   "metadata": {
    "slideshow": {
     "slide_type": "fragment"
    }
   },
   "source": [
    "Python's import system is far more general.\n",
    "\n",
    "Really, it would be consulting several \"*finders*\" here, whose job is to\n",
    "return a \"*module specification*\", which in turn must define a \"*loader*\".\n",
    "\n",
    "We're focusing on just one of the default finders - the one that knows how to\n",
    "import python files on a typical filesystem."
   ]
  },
  {
   "cell_type": "markdown",
   "metadata": {
    "slideshow": {
     "slide_type": "subslide"
    }
   },
   "source": [
    "In code:"
   ]
  },
  {
   "cell_type": "code",
   "execution_count": 6,
   "metadata": {
    "slideshow": {
     "slide_type": "skip"
    }
   },
   "outputs": [],
   "source": [
    "import os"
   ]
  },
  {
   "cell_type": "code",
   "execution_count": 7,
   "metadata": {},
   "outputs": [],
   "source": [
    "def find_module_file(name, search_paths=None):\n",
    "    path = name.replace(\".\", \"/\")\n",
    "\n",
    "    if search_paths is None:\n",
    "        search_paths = sys.path\n",
    "\n",
    "    for root in search_paths:\n",
    "        dirname = os.path.join(root, path)\n",
    "        if os.path.isdir(dirname):\n",
    "            filename = os.path.join(dirname, \"__init__.py\")\n",
    "            if not os.path.isfile(filename):\n",
    "                filename = None\n",
    "            return root, filename\n",
    "\n",
    "        filename = dirname + \".py\"\n",
    "        if os.path.isfile(filename):\n",
    "            return None, filename\n",
    "\n",
    "    raise ModuleNotFoundError(f\"No module named {name!r}\")"
   ]
  },
  {
   "cell_type": "markdown",
   "metadata": {
    "slideshow": {
     "slide_type": "subslide"
    }
   },
   "source": [
    "### Initialise module\n",
    "\n",
    "A new module object is created and stored in `sys.modules`."
   ]
  },
  {
   "cell_type": "markdown",
   "metadata": {
    "slideshow": {
     "slide_type": "fragment"
    }
   },
   "source": [
    "It is given some special attributes:\n",
    "\n",
    "- `__name__`: the full module name\n",
    "- `__package__`: package that this module is considered part of\n",
    "  - same as `__name__` if already a package\n",
    "  - parent if there is one\n",
    "  - `None` otherwise\n",
    "- `__path__`: paths to search for submodules (not present if not a package)\n",
    "- `__spec__`: the module specification\n",
    "- `__loader__`: loader defined by the specification\n",
    "- `__file__`: name of file to load (not present if meaningless for the loader)"
   ]
  },
  {
   "cell_type": "markdown",
   "metadata": {
    "slideshow": {
     "slide_type": "subslide"
    }
   },
   "source": [
    "In code:"
   ]
  },
  {
   "cell_type": "code",
   "execution_count": 8,
   "metadata": {
    "slideshow": {
     "slide_type": "skip"
    }
   },
   "outputs": [],
   "source": [
    "Module = type(sys)"
   ]
  },
  {
   "cell_type": "code",
   "execution_count": 9,
   "metadata": {},
   "outputs": [],
   "source": [
    "def find_and_load(name, search_paths=None):\n",
    "    dirname, filename = find_module_file(name, search_paths)\n",
    "\n",
    "    module = sys.modules[name] = Module(name)\n",
    "\n",
    "    parent = name.rpartition(\".\")[0]\n",
    "    if dirname is not None:\n",
    "        # Is a package\n",
    "        module.__path__ = [dirname]\n",
    "        module.__package__ = name\n",
    "    elif parent:\n",
    "        # Is part of a package\n",
    "        module.__package__ = parent\n",
    "\n",
    "    if filename is not None:\n",
    "        module.__file__ = filename\n",
    "        load_module_file(module, filename)\n",
    "\n",
    "    return sys.modules[name]"
   ]
  },
  {
   "cell_type": "markdown",
   "metadata": {
    "slideshow": {
     "slide_type": "subslide"
    }
   },
   "source": [
    "### Execute file\n",
    "\n",
    "The module object is used as the global namespace. In particular, this means:\n",
    "\n",
    "- Module attributes like `__name__` are available as variables.\n",
    "\n",
    "- Any global variables defined - such as function or class definitions - will\n",
    "  immediately be reflected as attributes of the module object."
   ]
  },
  {
   "cell_type": "markdown",
   "metadata": {
    "slideshow": {
     "slide_type": "subslide"
    }
   },
   "source": [
    "In code:"
   ]
  },
  {
   "cell_type": "code",
   "execution_count": 10,
   "metadata": {},
   "outputs": [],
   "source": [
    "def load_module_file(module, filename):\n",
    "    try:\n",
    "        with open(filename, \"r\") as file:\n",
    "            exec(file.read(), module.__dict__)\n",
    "    except:\n",
    "        try:\n",
    "            del sys.modules[module.__name__]\n",
    "        except KeyError:\n",
    "            pass\n",
    "        raise"
   ]
  },
  {
   "cell_type": "markdown",
   "metadata": {
    "slideshow": {
     "slide_type": "subslide"
    }
   },
   "source": [
    "### Assign variables\n",
    "\n",
    "Varies slightly depending on the form of the import:\n",
    "\n",
    "- `import module.submodule`: the top-level parent module is assigned to a\n",
    "  variable of the same name. If a submodule was requested, it will be available\n",
    "  as an attribute.\n",
    "\n",
    "  Other submodules may be available too, if they were imported in the process\n",
    "  of executing any of the files so far.\n",
    "\n",
    "- `import module as something`: the imported (sub)module is assigned directly\n",
    "  to the name specified.\n",
    "\n",
    "- `from module import something`: the module is imported but not assigned to\n",
    "  anything.\n",
    "  \n",
    "  The names listed after `import` must either already be attributes of the\n",
    "  module, or importable submodules. Each is assigned, according to the `as`\n",
    "  clause if present."
   ]
  },
  {
   "cell_type": "markdown",
   "metadata": {
    "slideshow": {
     "slide_type": "subslide"
    }
   },
   "source": [
    "In code:"
   ]
  },
  {
   "cell_type": "code",
   "execution_count": 11,
   "metadata": {},
   "outputs": [],
   "source": [
    "def _import(name, fromlist=(), namespace=globals()):\n",
    "    full_name = resolve_name(namespace.get(\"__package__\"), name)\n",
    "    module = import_module(full_name)\n",
    "\n",
    "    if not fromlist:\n",
    "        top_level = full_name.partition(\".\")[0]\n",
    "        namespace[top_level] = sys.modules[top_level]\n",
    "    else:\n",
    "        for item_name in fromlist:\n",
    "            try:\n",
    "                item = getattr(module, item_name)\n",
    "            except AttributeError:\n",
    "                item = import_module(f\"{full_name}.{item_name}\")\n",
    "            namespace[item_name] = item"
   ]
  },
  {
   "cell_type": "markdown",
   "metadata": {
    "slideshow": {
     "slide_type": "slide"
    }
   },
   "source": [
    "## The Python Path\n",
    "\n",
    "When python is searching for a file to import, it is considering each item of\n",
    "`sys.path` in turn.\n",
    "\n",
    "This is a list that is populated in a number of different ways when python\n",
    "starts up. Most can be disabled with various command-line options or\n",
    "environment variables."
   ]
  },
  {
   "cell_type": "markdown",
   "metadata": {
    "slideshow": {
     "slide_type": "subslide"
    }
   },
   "source": [
    "By default, the entries are (from highest to lowest priority):\n",
    "\n",
    "- Script directory (disable: `-I`)\n",
    "- `$PYTHONPATH` (disable: `-I` or `-E`)\n",
    "- Standard library\n",
    "- User site packages (disable: `-S` or `-s` or `-I`)\n",
    "- Site packages (disable: `-S`)"
   ]
  },
  {
   "cell_type": "code",
   "execution_count": 12,
   "metadata": {
    "slideshow": {
     "slide_type": "fragment"
    }
   },
   "outputs": [
    {
     "data": {
      "text/plain": [
       "['',\n",
       " '/opt/scitools/environments/default/current/lib/python36.zip',\n",
       " '/opt/scitools/environments/default/current/lib/python3.6',\n",
       " '/opt/scitools/environments/default/current/lib/python3.6/lib-dynload',\n",
       " '/home/h01/bsherrat/.local/lib/python3.6/site-packages',\n",
       " '/opt/scitools/environments/default/current/lib/python3.6/site-packages',\n",
       " '/opt/scitools/environments/default/current/lib/python3.6/site-packages/IPython/extensions',\n",
       " '/net/home/h01/bsherrat/.ipython']"
      ]
     },
     "execution_count": 12,
     "metadata": {},
     "output_type": "execute_result"
    }
   ],
   "source": [
    "sys.path"
   ]
  },
  {
   "cell_type": "markdown",
   "metadata": {
    "slideshow": {
     "slide_type": "subslide"
    }
   },
   "source": [
    "### Script directory\n",
    "\n",
    "If a file is being executed, its parent directory is inserted at the start of\n",
    "`sys.path`.\n",
    "\n",
    "Otherwise, an empty string is used, which means \"current working directory\" in\n",
    "the typical sense - including being affected by `os.chdir`."
   ]
  },
  {
   "cell_type": "markdown",
   "metadata": {
    "slideshow": {
     "slide_type": "subslide"
    }
   },
   "source": [
    "### `$PYTHONPATH`\n",
    "\n",
    "This environment variable can contain a colon-separated list of paths -\n",
    "similar to `$PATH`. Each will be added to `sys.path`, after the script\n",
    "directory but before the standard library."
   ]
  },
  {
   "cell_type": "markdown",
   "metadata": {
    "slideshow": {
     "slide_type": "fragment"
    }
   },
   "source": [
    "**Caution**: if it contains an empty path (eg if it was extended with\n",
    "`PYTHONPATH=\"/some/path:$PYTHONPATH\"` when already empty), then this is\n",
    "expanded to the working directory at the time of execution."
   ]
  },
  {
   "cell_type": "markdown",
   "metadata": {
    "slideshow": {
     "slide_type": "subslide"
    }
   },
   "source": [
    "### Site packages\n",
    "\n",
    "This simply refers to installed packages.\n",
    "\n",
    "The standard library module\n",
    "[`site`](https://docs.python.org/3/library/site.html)\n",
    "is responsible for making sure they are available on `sys.path`, which python\n",
    "will normally invoke during startup."
   ]
  },
  {
   "cell_type": "markdown",
   "metadata": {
    "slideshow": {
     "slide_type": "fragment"
    }
   },
   "source": [
    "There are two main locations:\n",
    "\n",
    "- Near the standard library, eg `/path/to/lib/pythonX.Y/site-packages`\n",
    "- A user-writable counterpart, eg `~/.local/lib/pythonX.Y/site-packages`"
   ]
  },
  {
   "cell_type": "code",
   "execution_count": 13,
   "metadata": {},
   "outputs": [
    {
     "data": {
      "text/plain": [
       "['/opt/scitools/environments/default/current/lib/python3.6/site-packages']"
      ]
     },
     "execution_count": 13,
     "metadata": {},
     "output_type": "execute_result"
    }
   ],
   "source": [
    "import site\n",
    "site.getsitepackages()"
   ]
  },
  {
   "cell_type": "code",
   "execution_count": 14,
   "metadata": {},
   "outputs": [
    {
     "data": {
      "text/plain": [
       "'/home/h01/bsherrat/.local/lib/python3.6/site-packages'"
      ]
     },
     "execution_count": 14,
     "metadata": {},
     "output_type": "execute_result"
    }
   ],
   "source": [
    "site.getusersitepackages()"
   ]
  },
  {
   "cell_type": "markdown",
   "metadata": {
    "slideshow": {
     "slide_type": "fragment"
    }
   },
   "source": [
    "Additionally, if any of these folders contain `.pth` files, each line of each\n",
    "file is added to `sys.path` as well. Installing a package from source may make\n",
    "use of this."
   ]
  },
  {
   "cell_type": "markdown",
   "metadata": {
    "slideshow": {
     "slide_type": "subslide"
    }
   },
   "source": [
    "### Which one to use?"
   ]
  },
  {
   "cell_type": "markdown",
   "metadata": {
    "slideshow": {
     "slide_type": "fragment"
    }
   },
   "source": [
    "**Site package**\n",
    "\n",
    "Ideally, as much as possible should be installed as a site package - system\n",
    "not user.\n",
    "\n",
    "If elevated permissions are required for this, strongly consider creating\n",
    "a separate environment where they are not - eg using\n",
    "[`venv`](https://docs.python.org/3/library/venv.html) from the standard\n",
    "library, or [conda](https://conda.io/en/latest/)."
   ]
  },
  {
   "cell_type": "markdown",
   "metadata": {
    "slideshow": {
     "slide_type": "fragment"
    }
   },
   "source": [
    "**PYTHONPATH**\n",
    "\n",
    "If a dedicated environment is not possible or otherwise undesirable, install\n",
    "the desired package from source, and point to it using `$PYTHONPATH`. Best in\n",
    "a wrapper script, *not* `.bashrc`."
   ]
  },
  {
   "cell_type": "markdown",
   "metadata": {
    "slideshow": {
     "slide_type": "fragment"
    }
   },
   "source": [
    "**User site package**\n",
    "\n",
    "Generally achieved with `pip install --user`. More convenient than\n",
    "`PYTHONPATH`, but need to be *very* careful as all python executables of the\n",
    "same version will share these same packages, so overall less recommended."
   ]
  },
  {
   "cell_type": "markdown",
   "metadata": {
    "slideshow": {
     "slide_type": "fragment"
    }
   },
   "source": [
    "**Script directory**\n",
    "\n",
    "That is, the imported code is in the same folder as the scripts using it.\n",
    "\n",
    "OK for single-user code, but otherwise should not be considered more than a\n",
    "temporary solution - install it like any other package."
   ]
  },
  {
   "cell_type": "markdown",
   "metadata": {
    "slideshow": {
     "slide_type": "slide"
    }
   },
   "source": [
    "## Relative imports"
   ]
  },
  {
   "cell_type": "markdown",
   "metadata": {
    "slideshow": {
     "slide_type": "subslide"
    }
   },
   "source": [
    "A relative import is simply an import that is restricted to the current\n",
    "package. It is recognised by a module name having leading dots, which is only\n",
    "valid in the `from` form:\n",
    "\n",
    "```python\n",
    "from . import sibling\n",
    "from .sibling import something\n",
    "from .. import uncle\n",
    "from ...great_aunt import cousin_once_removed\n",
    "```"
   ]
  },
  {
   "cell_type": "markdown",
   "metadata": {
    "slideshow": {
     "slide_type": "subslide"
    }
   },
   "source": [
    "Main advantages:\n",
    "\n",
    "- Clear visual distinction from standard/3rd-party imports\n",
    "- Fully protected against \"import shadowing\"\n",
    "- Less to change if a package/folder is renamed"
   ]
  },
  {
   "cell_type": "markdown",
   "metadata": {
    "slideshow": {
     "slide_type": "fragment"
    }
   },
   "source": [
    "One minor limitation:\n",
    "\n",
    "- Because `__package__` must be defined, a file containing relative imports\n",
    "  cannot be executed as a script (ie `python submodule.py`). But any module\n",
    "  can already be executed with `python -m module.submodule` anyway."
   ]
  },
  {
   "cell_type": "markdown",
   "metadata": {
    "slideshow": {
     "slide_type": "subslide"
    }
   },
   "source": [
    "### What it does"
   ]
  },
  {
   "cell_type": "markdown",
   "metadata": {},
   "source": [
    "The relative module name is translated to an absolute name, by appending it\n",
    "to `__package__` and going up a level for each additional dot.\n",
    "\n",
    "For example, a module `a.b` is only allowed to make relative imports with one\n",
    "leading dot - referring to `a` - `a.b.c` may use two leading dots, etc.\n",
    "\n",
    "Importing then proceeds almost exactly as before, just using `__path__` in\n",
    "place of `sys.path`."
   ]
  },
  {
   "cell_type": "code",
   "execution_count": 15,
   "metadata": {
    "slideshow": {
     "slide_type": "subslide"
    }
   },
   "outputs": [],
   "source": [
    "def resolve_name(package, name):\n",
    "    if not name.startswith(\".\"):\n",
    "        # Already absolute\n",
    "        return name\n",
    "\n",
    "    if not package:\n",
    "        raise ImportError(\"attempted relative import with no known parent package\")\n",
    "\n",
    "    name = name[1:]\n",
    "    parents = package.split(\".\")\n",
    "    while name.startswith(\".\"):\n",
    "        name = name[1:]\n",
    "        parents = parents[:-1]\n",
    "    if not parents:\n",
    "        raise ImportError(\"attempted relative import beyond top-level package\")\n",
    "\n",
    "    parent = \".\".join(parents)\n",
    "    if name:\n",
    "        return f\"{parent}.{name}\"\n",
    "    return parent"
   ]
  },
  {
   "cell_type": "markdown",
   "metadata": {
    "slideshow": {
     "slide_type": "slide"
    }
   },
   "source": [
    "## Bonus!"
   ]
  },
  {
   "cell_type": "markdown",
   "metadata": {
    "slideshow": {
     "slide_type": "subslide"
    }
   },
   "source": [
    "### `__future__`"
   ]
  },
  {
   "cell_type": "markdown",
   "metadata": {
    "slideshow": {
     "slide_type": "fragment"
    }
   },
   "source": [
    "This is not an import at all, it's part of the grammar: the first non-blank\n",
    "non-comment lines may read `from __future__ import feature`, and this is not\n",
    "allowed anywhere else in the file.\n",
    "\n",
    "It was mostly used to allow python 3 features in python 2, to aid the\n",
    "transition from 2 to 3."
   ]
  },
  {
   "cell_type": "markdown",
   "metadata": {
    "slideshow": {
     "slide_type": "subslide"
    }
   },
   "source": [
    "### Circular imports"
   ]
  },
  {
   "cell_type": "markdown",
   "metadata": {
    "slideshow": {
     "slide_type": "fragment"
    }
   },
   "source": [
    "Here is a module with three submodules that import each other:"
   ]
  },
  {
   "cell_type": "code",
   "execution_count": 16,
   "metadata": {},
   "outputs": [
    {
     "name": "stdout",
     "output_type": "stream",
     "text": [
      "circular: importing submodule_1\n",
      "circular.submodule_1: importing submodule_a\n",
      "circular.submodule_a: importing submodule_α\n",
      "circular.submodule_α: importing submodule_1\n",
      "finished circular.submodule_α\n",
      "finished circular.submodule_a\n",
      "finished circular.submodule_1\n"
     ]
    }
   ],
   "source": [
    "import circular"
   ]
  },
  {
   "cell_type": "markdown",
   "metadata": {
    "slideshow": {
     "slide_type": "fragment"
    }
   },
   "source": [
    "Python is interpreted: it is stepping through each line of a file one-by-one.\n",
    "An import statement interrupts this by executing another file. If a subsequent\n",
    "import refers to an \"interrupted\" file, it is ignored.\n",
    "\n",
    "In practice, this usually works, because the dependencies are not typically\n",
    "required to define a function, only to call it. However, a circular dependency\n",
    "remains a red flag, suggesting the code would benefit from a refactor."
   ]
  },
  {
   "cell_type": "markdown",
   "metadata": {
    "slideshow": {
     "slide_type": "subslide"
    }
   },
   "source": [
    "### Using our implementation"
   ]
  },
  {
   "cell_type": "code",
   "execution_count": 17,
   "metadata": {
    "slideshow": {
     "slide_type": "fragment"
    }
   },
   "outputs": [
    {
     "name": "stdout",
     "output_type": "stream",
     "text": [
      "in a\n",
      "in a.b\n",
      "in a.b.c\n"
     ]
    }
   ],
   "source": [
    "_import(\"a.b\", [\"c\"])"
   ]
  },
  {
   "cell_type": "code",
   "execution_count": 18,
   "metadata": {
    "slideshow": {
     "slide_type": "fragment"
    }
   },
   "outputs": [
    {
     "data": {
      "text/plain": [
       "True"
      ]
     },
     "execution_count": 18,
     "metadata": {},
     "output_type": "execute_result"
    }
   ],
   "source": [
    "\"a.b.c\" in sys.modules"
   ]
  },
  {
   "cell_type": "code",
   "execution_count": 19,
   "metadata": {},
   "outputs": [
    {
     "data": {
      "text/plain": [
       "False"
      ]
     },
     "execution_count": 19,
     "metadata": {},
     "output_type": "execute_result"
    }
   ],
   "source": [
    "\"a\" in globals()"
   ]
  },
  {
   "cell_type": "code",
   "execution_count": 20,
   "metadata": {},
   "outputs": [
    {
     "data": {
      "text/plain": [
       "True"
      ]
     },
     "execution_count": 20,
     "metadata": {},
     "output_type": "execute_result"
    }
   ],
   "source": [
    "\"c\" in globals()"
   ]
  },
  {
   "cell_type": "code",
   "execution_count": 21,
   "metadata": {},
   "outputs": [
    {
     "data": {
      "text/plain": [
       "<module 'a.b.c' from 'a/b/c.py'>"
      ]
     },
     "execution_count": 21,
     "metadata": {},
     "output_type": "execute_result"
    }
   ],
   "source": [
    "c"
   ]
  }
 ],
 "metadata": {
  "kernelspec": {
   "display_name": "default-current",
   "language": "python",
   "name": "default-current"
  },
  "language_info": {
   "codemirror_mode": {
    "name": "ipython",
    "version": 3
   },
   "file_extension": ".py",
   "mimetype": "text/x-python",
   "name": "python",
   "nbconvert_exporter": "python",
   "pygments_lexer": "ipython3",
   "version": "3.6.10"
  }
 },
 "nbformat": 4,
 "nbformat_minor": 4
}
